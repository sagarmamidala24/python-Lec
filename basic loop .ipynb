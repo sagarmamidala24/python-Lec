{
 "cells": [
  {
   "cell_type": "code",
   "execution_count": 10,
   "id": "16617982-6a9d-463d-83be-eda7ab52b8f6",
   "metadata": {},
   "outputs": [
    {
     "name": "stdin",
     "output_type": "stream",
     "text": [
      "enter the number: 1\n",
      "enter the number: 10\n"
     ]
    },
    {
     "name": "stdout",
     "output_type": "stream",
     "text": [
      "1.0\n",
      "3.0\n",
      "6.0\n",
      "10.0\n",
      "15.0\n",
      "21.0\n",
      "28.0\n",
      "36.0\n",
      "45.0\n",
      "55.0\n"
     ]
    }
   ],
   "source": [
    "#Write a Program to Calculate the Sum of Natural Numbers ?\n",
    "start = int(input(\"enter the number:\"))\n",
    "end = int(input(\"enter the number:\"))\n",
    "\n",
    "for i in range(start,end+1):\n",
    "    print(i*(i+1)/2)"
   ]
  },
  {
   "cell_type": "code",
   "execution_count": 11,
   "id": "0ba49e02-1a67-44c8-a575-f208d133308b",
   "metadata": {},
   "outputs": [
    {
     "name": "stdin",
     "output_type": "stream",
     "text": [
      "enter the number: 5\n"
     ]
    },
    {
     "name": "stdout",
     "output_type": "stream",
     "text": [
      "5 x 1 = 5\n",
      "5 x 2 = 10\n",
      "5 x 3 = 15\n",
      "5 x 4 = 20\n",
      "5 x 5 = 25\n",
      "5 x 6 = 30\n",
      "5 x 7 = 35\n",
      "5 x 8 = 40\n",
      "5 x 9 = 45\n",
      "5 x 10 = 50\n"
     ]
    }
   ],
   "source": [
    "#Write a Program to Generate Multiplication Table ?\n",
    "n = int(input(\"enter the number:\"))\n",
    "for i in range(1,11):\n",
    "    print(n, 'x' , i ,'=', n*i)"
   ]
  },
  {
   "cell_type": "code",
   "execution_count": 10,
   "id": "6da41db3-1f2e-4419-b357-4a6e856501a2",
   "metadata": {},
   "outputs": [
    {
     "name": "stdout",
     "output_type": "stream",
     "text": [
      "5\n"
     ]
    }
   ],
   "source": [
    "#Write a Program to Display count of Alphabets in to String\n",
    "user = \"sagar\"\n",
    "count = 0\n",
    "for i in user:\n",
    "    count += 1\n",
    "print(count)"
   ]
  },
  {
   "cell_type": "code",
   "execution_count": 14,
   "id": "b6ffc94f-e0ce-4d3c-9d68-3c4559ce68fe",
   "metadata": {},
   "outputs": [
    {
     "name": "stdin",
     "output_type": "stream",
     "text": [
      "enter the number: 13456\n"
     ]
    },
    {
     "name": "stdout",
     "output_type": "stream",
     "text": [
      "5\n",
      "Total number of digits : 5\n"
     ]
    }
   ],
   "source": [
    "#Write a Program to Count Number of Digits in an Integer\n",
    "user = int(input(\"enter the number:\"))\n",
    "count = 0\n",
    "for i in str(user):\n",
    "    count += 1\n",
    "print(count)\n",
    "print(\"Total number of digits :\",count)"
   ]
  },
  {
   "cell_type": "code",
   "execution_count": 15,
   "id": "c6d2a146-8bf2-4d9e-b476-c8ccde9a6bf8",
   "metadata": {},
   "outputs": [
    {
     "name": "stdin",
     "output_type": "stream",
     "text": [
      "Enter Number:  123456\n"
     ]
    },
    {
     "name": "stdout",
     "output_type": "stream",
     "text": [
      "Reverse Number: 654321\n"
     ]
    }
   ],
   "source": [
    "#Write a Program to Reverse a Number\n",
    "number = int(input(\"Enter Number: \"))\n",
    "reversed_number = 0\n",
    "while number > 0:\n",
    "    remainder = number % 10\n",
    "    reversed_number = (reversed_number * 10) + remainder\n",
    "    number = number // 10\n",
    "print(\"Reverse Number:\", reversed_number)\n"
   ]
  }
 ],
 "metadata": {
  "kernelspec": {
   "display_name": "Python 3 (ipykernel)",
   "language": "python",
   "name": "python3"
  },
  "language_info": {
   "codemirror_mode": {
    "name": "ipython",
    "version": 3
   },
   "file_extension": ".py",
   "mimetype": "text/x-python",
   "name": "python",
   "nbconvert_exporter": "python",
   "pygments_lexer": "ipython3",
   "version": "3.12.7"
  }
 },
 "nbformat": 4,
 "nbformat_minor": 5
}
